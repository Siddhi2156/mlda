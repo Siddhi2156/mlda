{
 "cells": [
  {
   "cell_type": "code",
   "execution_count": null,
   "id": "aef35b2e",
   "metadata": {},
   "outputs": [],
   "source": [
    "# 1. Install and fetch the dataset from Kaggle\n",
    "!pip install opendatasets --quiet\n",
    "\n",
    "import opendatasets as od\n",
    "od.download('https://www.kaggle.com/datasets/gregorut/videogamesales')\n",
    "\n",
    "import pandas as pd\n",
    "from sklearn.model_selection import train_test_split\n",
    "\n",
    "# 2. Load the dataset\n",
    "data = pd.read_csv(r'data/vgsales.csv')\n",
    "print(\"Dataset shape:\", data.shape)\n",
    "print(data.head())\n",
    "\n",
    "# 3. Basic EDA\n",
    "print(\"\\nColumns and Data Types:\")\n",
    "print(data.dtypes)\n",
    "\n",
    "print(\"\\nMissing values per column:\")\n",
    "print(data.isna().sum())\n",
    "\n",
    "# 4. Data Cleaning\n",
    "# Convert Year to numeric and drop rows with missing year\n",
    "data['Year'] = pd.to_numeric(data['Year'], errors='coerce')\n",
    "data = data.dropna(subset=['Year'])\n",
    "\n",
    "# 5. Feature Engineering\n",
    "# Compute share of global sales by region\n",
    "for region in ['NA_Sales', 'EU_Sales', 'JP_Sales', 'Other_Sales']:\n",
    "    data[f'{region}_pct'] = data[region] / data['Global_Sales']\n",
    "\n",
    "# 6. Prepare data for modeling example:\n",
    "# Let's say we want to predict Global_Sales based on numeric features\n",
    "features = ['Year', 'NA_Sales_pct', 'EU_Sales_pct', 'JP_Sales_pct', 'Other_Sales_pct']\n",
    "X = data[features].fillna(0)  # fill any remaining NaNs\n",
    "y = data['Global_Sales']\n",
    "\n",
    "# 7. Split the dataset\n",
    "X_train, X_test, y_train, y_test = train_test_split(\n",
    "    X, y, test_size=0.2, random_state=42\n",
    ")\n",
    "\n",
    "print(\"\\nTraining features preview:\")\n",
    "print(X_train.head())\n",
    "\n",
    "print(\"\\nTraining targets preview:\")\n",
    "y_train.head()\n"
   ]
  },
  {
   "cell_type": "code",
   "execution_count": null,
   "id": "3dae7909",
   "metadata": {},
   "outputs": [
    {
     "name": "stdout",
     "output_type": "stream",
     "text": [
      "Please provide your Kaggle credentials to download this dataset. Learn more: http://bit.ly/kaggle-creds\n",
      "Your Kaggle username:"
     ]
    },
    {
     "name": "stderr",
     "output_type": "stream",
     "text": [
      "\n",
      "[notice] A new release of pip is available: 25.0.1 -> 25.2\n",
      "[notice] To update, run: python.exe -m pip install --upgrade pip\n"
     ]
    }
   ],
   "source": []
  }
 ],
 "metadata": {
  "kernelspec": {
   "display_name": "Python 3",
   "language": "python",
   "name": "python3"
  },
  "language_info": {
   "codemirror_mode": {
    "name": "ipython",
    "version": 3
   },
   "file_extension": ".py",
   "mimetype": "text/x-python",
   "name": "python",
   "nbconvert_exporter": "python",
   "pygments_lexer": "ipython3",
   "version": "3.12.6"
  }
 },
 "nbformat": 4,
 "nbformat_minor": 5
}
